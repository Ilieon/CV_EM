{
 "cells": [
  {
   "cell_type": "markdown",
   "id": "7e9bd47d",
   "metadata": {},
   "source": [
    "输入图像-grabcut抓前景背景-最大连通域消除外部-Marr求边缘-腐蚀消除内部垃圾"
   ]
  },
  {
   "cell_type": "code",
   "execution_count": 2,
   "id": "963b9e12",
   "metadata": {},
   "outputs": [
    {
     "name": "stdout",
     "output_type": "stream",
     "text": [
      "16\n",
      "[(72, 381, 13, 25), (69, 356, 20, 21), (76, 330, 19, 16), (580, 327, 17, 16), (553, 311, 7, 6), (551, 303, 8, 6), (65, 302, 17, 15), (558, 300, 27, 47), (562, 278, 10, 9), (537, 277, 16, 14), (137, 142, 12, 9), (121, 142, 12, 9), (141, 128, 12, 8), (127, 128, 11, 9), (145, 115, 11, 8), (131, 115, 10, 8)]\n"
     ]
    }
   ],
   "source": [
    "import numpy as np\n",
    "import cv2\n",
    "import torch\n",
    "from matplotlib import pyplot as plt\n",
    "\n",
    "def cv_show(name,img):\n",
    "    cv2.imshow(name,img)   #显示原图\n",
    "    if cv2.waitKey(0) == 27:\n",
    "        cv2.destroyAllWindows()\n",
    "    if cv2.waitKey(0):\n",
    "        cv2.destroyAllWindows()\n",
    "#grabCut分割\n",
    "from matplotlib import pyplot as plt\n",
    "img = cv2.imread('tu_.png')\n",
    "gray = cv2.cvtColor(img,cv2.COLOR_BGR2GRAY)\n",
    "#gray = cv2.equalizeHist(gray)#均衡\n",
    "#gray = cv2.GaussianBlur(gray, (5, 5), 0)#高斯滤波\n",
    "\n",
    "# 创建于读入图像，相同大小的掩模\n",
    "mask = np.zeros(img.shape[:2],np.uint8)\n",
    " \n",
    "# 创建以0填充的前景和背景模型\n",
    "bgdModel = np.zeros((1, 65), np.float64)\n",
    "fgdModel = np.zeros((1, 65), np.float64)\n",
    " \n",
    "rect = (21,1,660,428)\n",
    "cv2.grabCut(img, mask, rect, bgdModel,fgdModel,6,cv2.GC_INIT_WITH_RECT)\n",
    " \n",
    "# 此时的掩模已经变成了0-3之间的数字，\n",
    "mask2 = np.where((mask == 2) | (mask == 0),0,1).astype('uint8')\n",
    " \n",
    "img1 = img * mask2[:,:,np.newaxis]\n",
    "gray = cv2.cvtColor(img1,cv2.COLOR_BGR2GRAY)\n",
    "gray_o=gray\n",
    "contours,hierarchy = cv2.findContours(gray,cv2.RETR_TREE, cv2.CHAIN_APPROX_NONE)\n",
    " \n",
    "#找到最大区域并填充\n",
    " \n",
    "area = []\n",
    " \n",
    "for j in range(len(contours)):\n",
    " \n",
    "    area.append(cv2.contourArea(contours[j]))\n",
    " \n",
    "max_idx = np.argmax(area)\n",
    " \n",
    "max_area = cv2.contourArea(contours[max_idx])\n",
    " \n",
    "for k in range(len(contours)):\n",
    " \n",
    "    if k != max_idx:\n",
    "        cv2.fillPoly(gray, [contours[k]], 0)\n",
    "\n",
    "IMG=gray;\n",
    "\n",
    "#k = cv2.getStructuringElement(cv2.MORPH_RECT, (5, 5))\n",
    "k = np.ones((4, 4), np.uint8)\n",
    "open = cv2.morphologyEx(IMG, cv2.MORPH_OPEN, k)\n",
    "close = cv2.morphologyEx(IMG, cv2.MORPH_CLOSE, k)\n",
    "k = np.ones((4, 4), np.uint8)\n",
    "thresh = cv2.threshold(close, 0, 255, cv2.THRESH_BINARY | cv2.THRESH_OTSU)[1]\n",
    "thresh = cv2.morphologyEx(thresh, cv2.MORPH_CLOSE, k)\n",
    "binary=thresh\n",
    "dst = cv2.Laplacian(binary, cv2.CV_16S, ksize = 3)\n",
    "Laplacian = cv2.convertScaleAbs(dst)\n",
    "ret, binary = cv2.threshold(Laplacian, 127, 255, cv2.THRESH_BINARY)\n",
    "\n",
    "threshCnts=[]\n",
    "hierarchy=[]\n",
    "threshCnts, hierarchy = cv2.findContours(thresh.copy(), cv2.RETR_LIST,\tcv2.CHAIN_APPROX_SIMPLE)\n",
    " \n",
    "cnts = threshCnts\n",
    "cur_img = img.copy()\n",
    "\n",
    "num=0\n",
    "locs=[]\n",
    "for (i, c) in enumerate(cnts):\n",
    "    # 计算矩形\n",
    "    (x, y, w, h) = cv2.boundingRect(c)\n",
    "    ar = w / float(h)\n",
    "    # 选择合适的区域，根据实际任务来，这里的基本都是四个数字一组\n",
    "    # [(454, 213, 110, 29), (308, 211, 109, 31), (171, 211, 98, 31), (18, 211, 107, 31)]\n",
    "    #if 0.8< ar < 1.2:\n",
    "    if (5< w < 60) and (5 < h < 60):\n",
    "            # 符合的留下来\n",
    "        locs.append((x, y, w, h))\n",
    "        num=num+1\n",
    "print(num) \n",
    "print(locs)\n",
    "\n"
   ]
  },
  {
   "cell_type": "code",
   "execution_count": 4,
   "id": "e91672e0",
   "metadata": {},
   "outputs": [],
   "source": [
    "import numpy as np\n",
    "import cv2\n",
    "import torch\n",
    "from matplotlib import pyplot as plt"
   ]
  },
  {
   "cell_type": "code",
   "execution_count": 72,
   "id": "97dacb9b",
   "metadata": {},
   "outputs": [
    {
     "ename": "AttributeError",
     "evalue": "'numpy.ndarray' object has no attribute 'clone'",
     "output_type": "error",
     "traceback": [
      "\u001b[1;31m---------------------------------------------------------------------------\u001b[0m",
      "\u001b[1;31mAttributeError\u001b[0m                            Traceback (most recent call last)",
      "\u001b[1;32m<ipython-input-72-88de31219025>\u001b[0m in \u001b[0;36m<module>\u001b[1;34m\u001b[0m\n\u001b[1;32m----> 1\u001b[1;33m \u001b[0mimg\u001b[0m \u001b[1;33m=\u001b[0m \u001b[0mshrink\u001b[0m\u001b[1;33m.\u001b[0m\u001b[0mclone\u001b[0m\u001b[1;33m(\u001b[0m\u001b[1;33m)\u001b[0m\u001b[1;33m;\u001b[0m\u001b[1;33m\u001b[0m\u001b[1;33m\u001b[0m\u001b[0m\n\u001b[0m",
      "\u001b[1;31mAttributeError\u001b[0m: 'numpy.ndarray' object has no attribute 'clone'"
     ]
    }
   ],
   "source": []
  },
  {
   "cell_type": "code",
   "execution_count": 74,
   "id": "a1f1058e",
   "metadata": {},
   "outputs": [],
   "source": [
    "img = cv2.imread('surf2.jpg')\n",
    "height, width = img.shape[:2] \n",
    "    # 缩小图像  \n",
    "size = (int(width*0.3), int(height*0.3))  \n",
    "shrink = cv2.resize(img, size, interpolation=cv2.INTER_AREA) \n",
    "shrink_o=shrink.copy();\n",
    "      \n",
    "    # 放大图像  \n",
    "fx = 1.6  \n",
    "fy = 1.2  \n",
    "enlarge = cv2.resize(img, (0, 0), fx=fx, fy=fy, interpolation=cv2.INTER_CUBIC)  \n",
    "cv_show('img1',shrink)"
   ]
  },
  {
   "cell_type": "code",
   "execution_count": 29,
   "id": "39ca8787",
   "metadata": {},
   "outputs": [],
   "source": [
    "#img = cv2.imread('surf4.jpg')\n",
    "img=shrink\n",
    "gray = cv2.cvtColor(img,cv2.COLOR_BGR2GRAY)\n",
    "mask = np.zeros(img.shape[:2],np.uint8)\n",
    " \n",
    "# 创建以0填充的前景和背景模型\n",
    "bgdModel = np.zeros((1, 65), np.float64)\n",
    "fgdModel = np.zeros((1, 65), np.float64)\n",
    "(x,y)=gray.shape\n",
    "rect = (21,1,y-30,x-20)\n",
    "cv2.grabCut(img, mask, rect, bgdModel,fgdModel,6,cv2.GC_INIT_WITH_RECT)\n",
    " \n",
    "# 此时的掩模已经变成了0-3之间的数字，\n",
    "mask2 = np.where((mask == 2) | (mask == 0),0,1).astype('uint8')\n",
    " \n",
    "img1 = img * mask2[:,:,np.newaxis]\n",
    "gray = cv2.cvtColor(img1,cv2.COLOR_BGR2GRAY)\n",
    "gray_o=gray\n",
    "contours,hierarchy = cv2.findContours(gray,cv2.RETR_TREE, cv2.CHAIN_APPROX_NONE)\n",
    "#最大联通域\n",
    "\n",
    "contours,hierarchy = cv2.findContours(gray,cv2.RETR_TREE, cv2.CHAIN_APPROX_NONE)\n",
    "\n",
    "area = []\n",
    " \n",
    "for j in range(len(contours)):\n",
    " \n",
    "    area.append(cv2.contourArea(contours[j]))\n",
    " \n",
    "max_idx = np.argmax(area)\n",
    " \n",
    "max_area = cv2.contourArea(contours[max_idx])\n",
    " \n",
    "for k in range(len(contours)):\n",
    " \n",
    "    if k != max_idx:\n",
    "        cv2.fillPoly(gray, [contours[k]], 0)\n",
    "\n",
    "IMG=gray;\n",
    "cv_show('IMG',IMG)"
   ]
  },
  {
   "cell_type": "code",
   "execution_count": 16,
   "id": "a80f56cd",
   "metadata": {},
   "outputs": [],
   "source": [
    "cv_show('IMG',IMG)"
   ]
  },
  {
   "cell_type": "code",
   "execution_count": 64,
   "id": "996073d9",
   "metadata": {},
   "outputs": [
    {
     "name": "stdout",
     "output_type": "stream",
     "text": [
      "2\n",
      "[153, 153]\n",
      "[72, -19]\n"
     ]
    }
   ],
   "source": [
    "#grabCut分割\n",
    "\n",
    "#img = cv2.imread('surf4.jpg')\n",
    "img = shrink\n",
    "gray = cv2.cvtColor(img,cv2.COLOR_BGR2GRAY)\n",
    "#gray = cv2.equalizeHist(gray)#均衡\n",
    "#gray = cv2.GaussianBlur(gray, (5, 5), 0)#高斯滤波\n",
    "\n",
    "# 创建于读入图像，相同大小的掩模\n",
    "mask = np.zeros(img.shape[:2],np.uint8)\n",
    " \n",
    "# 创建以0填充的前景和背景模型\n",
    "bgdModel = np.zeros((1, 65), np.float64)\n",
    "fgdModel = np.zeros((1, 65), np.float64)\n",
    "(x,y)=gray.shape\n",
    "rect = (21,1,y-30,x-20)\n",
    "cv2.grabCut(img, mask, rect, bgdModel,fgdModel,6,cv2.GC_INIT_WITH_RECT)\n",
    " \n",
    "# 此时的掩模已经变成了0-3之间的数字，\n",
    "mask2 = np.where((mask == 2) | (mask == 0),0,1).astype('uint8')\n",
    " \n",
    "img1 = img * mask2[:,:,np.newaxis]\n",
    "gray = cv2.cvtColor(img1,cv2.COLOR_BGR2GRAY)\n",
    "gray_o=gray\n",
    "contours,hierarchy = cv2.findContours(gray,cv2.RETR_TREE, cv2.CHAIN_APPROX_NONE)\n",
    "#最大联通域\n",
    "\n",
    "contours,hierarchy = cv2.findContours(gray,cv2.RETR_TREE, cv2.CHAIN_APPROX_NONE)\n",
    "\n",
    "area = []\n",
    " \n",
    "for j in range(len(contours)):\n",
    " \n",
    "    area.append(cv2.contourArea(contours[j]))\n",
    " \n",
    "max_idx = np.argmax(area)\n",
    " \n",
    "max_area = cv2.contourArea(contours[max_idx])\n",
    " \n",
    "for k in range(len(contours)):\n",
    " \n",
    "    if k != max_idx:\n",
    "        cv2.fillPoly(gray, [contours[k]], 0)\n",
    "\n",
    "IMG=gray;\n",
    "cv_show('IMG',IMG)\n",
    "k = np.ones((4, 4), np.uint8)\n",
    "open = cv2.morphologyEx(IMG, cv2.MORPH_OPEN, k)\n",
    "close = cv2.morphologyEx(IMG, cv2.MORPH_CLOSE, k)\n",
    "cv_show('IMG',close)\n",
    "k = np.ones((4, 4), np.uint8)\n",
    "thresh = cv2.threshold(close, 0, 255, cv2.THRESH_BINARY | cv2.THRESH_OTSU)[1]\n",
    "thresh = cv2.morphologyEx(thresh, cv2.MORPH_CLOSE, k)\n",
    "binary=thresh\n",
    "dst = cv2.Laplacian(binary, cv2.CV_16S, ksize = 3)\n",
    "Laplacian = cv2.convertScaleAbs(dst)\n",
    "ret, binary = cv2.threshold(Laplacian, 127, 255, cv2.THRESH_BINARY)\n",
    "cv_show('IMG',binary)\n",
    "\n",
    "threshCnts=[]\n",
    "hierarchy=[]\n",
    "threshCnts, hierarchy = cv2.findContours(thresh.copy(), cv2.RETR_LIST,\tcv2.CHAIN_APPROX_SIMPLE)\n",
    " \n",
    "cnts = threshCnts\n",
    "cur_img = img.copy()\n",
    "num=0\n",
    "locs=[]\n",
    "for (i, c) in enumerate(cnts):\n",
    "    # 计算矩形\n",
    "    (x, y, w, h) = cv2.boundingRect(c)\n",
    "    ar = w / float(h)\n",
    "    # 选择合适的区域，根据实际任务来，这里的基本都是四个数字一组\n",
    "    # [(454, 213, 110, 29), (308, 211, 109, 31), (171, 211, 98, 31), (18, 211, 107, 31)]\n",
    "    #if 0.8< ar < 1.2:\n",
    "    if (5< w < 200) and (5 < h < 200):\n",
    "            # 符合的留下来\n",
    "        locs.append((x, y, w, h))\n",
    "        num=num+1\n",
    "print(num)\n",
    "for i in range(0,num):\n",
    "    h1 = int(locs[i][2])+5\n",
    "    h2=  int(locs[i][3])+5\n",
    "    x_center = locs[i][0]\n",
    "    y_center = locs[i][1]\n",
    "    print([x_center-h1, y_center-h2])\n",
    "    draw_0 = cv2.rectangle(img, (x_center, y_center), (x_center+h1, y_center+h2), (255, 0, 0), 2)\n",
    "    name=\"sur_2_pipei\"+str(i)+'.png'\n",
    "    cv2.imwrite(name,binary[y_center:(y_center+h2),x_center:(x_center+h1)])   #将图像保存成jpg文件\n",
    "    tep=binary[y_center:(y_center+h2),x_center:(x_center+h1)]\n",
    "cv_show('German',draw_0)\n"
   ]
  },
  {
   "cell_type": "code",
   "execution_count": 23,
   "id": "a445fabc",
   "metadata": {},
   "outputs": [],
   "source": [
    "cv_show('German',draw_0)\n"
   ]
  },
  {
   "cell_type": "code",
   "execution_count": 94,
   "id": "51dc1580",
   "metadata": {},
   "outputs": [],
   "source": [
    "img =cv2.imread('pipei13.png',0)\n",
    "template = cv2.imread('muban5.png',0)\n",
    "(x,y)=template.shape\n",
    "img = cv2.resize(img,(y+5,x+5))"
   ]
  },
  {
   "cell_type": "code",
   "execution_count": 96,
   "id": "5e5192a5",
   "metadata": {
    "scrolled": true
   },
   "outputs": [
    {
     "data": {
      "text/plain": [
       "(37, 57)"
      ]
     },
     "execution_count": 96,
     "metadata": {},
     "output_type": "execute_result"
    }
   ],
   "source": [
    "img.shape"
   ]
  },
  {
   "cell_type": "code",
   "execution_count": 66,
   "id": "85b0bcdd",
   "metadata": {},
   "outputs": [
    {
     "data": {
      "image/png": "[encoded data removed]",
      "text/plain": [
       "<Figure size 432x288 with 2 Axes>"
      ]
     },
     "metadata": {},
     "output_type": "display_data"
    },
    {
     "name": "stdout",
     "output_type": "stream",
     "text": [
      "0.4962235391139984\n"
     ]
    }
   ],
   "source": [
    "img =cv2.imread('sur_2_pipei0.png',0)\n",
    "template = cv2.imread('muban12.png',0)\n",
    "(x,y)=template.shape\n",
    "img = cv2.resize(img,(y+20,x+20))\n",
    "rv = cv2.matchTemplate(img,template,cv2.TM_CCOEFF_NORMED)\n",
    "minVal, maxVal, minLoc, maxLoc = cv2.minMaxLoc(rv)\n",
    "topLeft = maxLoc\n",
    "bottomRight = (topLeft[0] + tw, topLeft[1] + th)\n",
    "cv2.rectangle(img,topLeft, bottomRight, 255, 2)\n",
    "plt.subplot(121),plt.imshow(rv,cmap = 'gray')\n",
    "plt.title('Matching Result'), plt.xticks([]), plt.yticks([])\n",
    "plt.subplot(122),plt.imshow(img,cmap = 'gray')\n",
    "plt.title('Detected Point'), plt.xticks([]), plt.yticks([])\n",
    "plt.show()\n",
    "if maxVal>0.4:\n",
    "    flag=1\n",
    "print(maxVal)"
   ]
  },
  {
   "cell_type": "code",
   "execution_count": 75,
   "id": "ac817b5e",
   "metadata": {},
   "outputs": [
    {
     "name": "stdout",
     "output_type": "stream",
     "text": [
      "[157, 157]\n"
     ]
    }
   ],
   "source": [
    "i=0\n",
    "h1 = int(locs[i][2])\n",
    "h2=  int(locs[i][3])\n",
    "x_center = locs[i][0]-1\n",
    "y_center = locs[i][1]-1\n",
    "print([x_center-h1, y_center-h2])\n",
    "draw_1 = cv2.rectangle(shrink_o, (x_center, y_center), (x_center+h1, y_center+h2), (0, 255, 0), 2)\n",
    "cv_show('d',draw_1)"
   ]
  },
  {
   "cell_type": "code",
   "execution_count": 55,
   "id": "503b4677",
   "metadata": {},
   "outputs": [
    {
     "data": {
      "text/plain": [
       "[(179, 178, 24, 22), (157, 125, 7, 9), (160, 120, 6, 6)]"
      ]
     },
     "execution_count": 55,
     "metadata": {},
     "output_type": "execute_result"
    }
   ],
   "source": []
  },
  {
   "cell_type": "code",
   "execution_count": 27,
   "id": "3be14d31",
   "metadata": {},
   "outputs": [
    {
     "data": {
      "image/png": "[encoded data removed]",
      "text/plain": [
       "<Figure size 432x288 with 2 Axes>"
      ]
     },
     "metadata": {},
     "output_type": "display_data"
    }
   ],
   "source": [
    "#使用函数cv2.matchTemplate()进行模板匹配。要求参数method 的值设置为cv2.TM_SQDIFF，显示函数的返回结果及匹配结果。\n",
    "\n",
    "img = binary\n",
    "\n",
    "template = cv2.imread('muban16.png',0)\n",
    "th, tw = template.shape[::]\n",
    "rv = cv2.matchTemplate(img,template,cv2.TM_CCOEFF_NORMED)\n",
    "minVal, maxVal, minLoc, maxLoc = cv2.minMaxLoc(rv)\n",
    "topLeft = maxLoc\n",
    "bottomRight = (topLeft[0] + tw, topLeft[1] + th)\n",
    "cv2.rectangle(img,topLeft, bottomRight, 255, 2)\n",
    "plt.subplot(121),plt.imshow(rv,cmap = 'gray')\n",
    "plt.title('Matching Result'), plt.xticks([]), plt.yticks([])\n",
    "plt.subplot(122),plt.imshow(img,cmap = 'gray')\n",
    "plt.title('Detected Point'), plt.xticks([]), plt.yticks([])\n",
    "plt.show()\n",
    "cv_show('s',img)"
   ]
  },
  {
   "cell_type": "code",
   "execution_count": 72,
   "id": "458eac40",
   "metadata": {},
   "outputs": [
    {
     "data": {
      "text/plain": [
       "-0.24202576279640198"
      ]
     },
     "execution_count": 72,
     "metadata": {},
     "output_type": "execute_result"
    }
   ],
   "source": [
    "minVal"
   ]
  },
  {
   "cell_type": "code",
   "execution_count": 20,
   "id": "37c55fdb",
   "metadata": {},
   "outputs": [
    {
     "data": {
      "text/plain": [
       "(113, 624)"
      ]
     },
     "execution_count": 20,
     "metadata": {},
     "output_type": "execute_result"
    }
   ],
   "source": []
  },
  {
   "cell_type": "code",
   "execution_count": 13,
   "id": "80fc6c96",
   "metadata": {},
   "outputs": [],
   "source": [
    "def cv_show(name,img):\n",
    "    cv2.imshow(name,img)   #显示原图\n",
    "    if cv2.waitKey(0) == 27:\n",
    "        cv2.destroyAllWindows()\n",
    "    if cv2.waitKey(0):\n",
    "        cv2.destroyAllWindows()"
   ]
  },
  {
   "cell_type": "code",
   "execution_count": 60,
   "id": "ed008fc4",
   "metadata": {},
   "outputs": [
    {
     "data": {
      "text/plain": [
       "True"
      ]
     },
     "execution_count": 60,
     "metadata": {},
     "output_type": "execute_result"
    }
   ],
   "source": [
    "cv2.imwrite('rgb_img.jpg', img)   #将图像保存成jpg文件"
   ]
  },
  {
   "cell_type": "code",
   "execution_count": 80,
   "id": "d57c4369",
   "metadata": {},
   "outputs": [],
   "source": [
    "cut=img[0:50,0:200]\n",
    "cv_show('ma',cut)\n"
   ]
  },
  {
   "cell_type": "code",
   "execution_count": 40,
   "id": "f901e338",
   "metadata": {},
   "outputs": [
    {
     "data": {
      "text/plain": [
       "True"
      ]
     },
     "execution_count": 40,
     "metadata": {},
     "output_type": "execute_result"
    }
   ],
   "source": [
    "img = cv2.imread('tu_.png')\n",
    "dim = (32, 32)\n",
    "resized = cv2.resize(img,dim, interpolation = cv2.INTER_AREA)\n",
    "#cv_show('ma',resized)\n",
    "cv2.imwrite('rgb_img.jpg', resized)   #将图像保存成jpg文件"
   ]
  },
  {
   "cell_type": "code",
   "execution_count": 105,
   "id": "53abbb3e",
   "metadata": {},
   "outputs": [
    {
     "data": {
      "text/plain": [
       "array([[22, 23, 23, ..., 77, 75,  0],\n",
       "       [23, 25, 24, ..., 72, 75,  0],\n",
       "       [24, 25, 25, ..., 70, 72,  0],\n",
       "       ...,\n",
       "       [77, 77, 76, ..., 38, 38,  0],\n",
       "       [76, 77, 75, ..., 38, 38,  0],\n",
       "       [76, 76, 75, ..., 39, 39,  0]], dtype=uint8)"
      ]
     },
     "execution_count": 105,
     "metadata": {},
     "output_type": "execute_result"
    }
   ],
   "source": [
    "dst"
   ]
  },
  {
   "cell_type": "markdown",
   "id": "cf0749ab",
   "metadata": {},
   "source": [
    "# 图像grabcut抓前景背景"
   ]
  },
  {
   "cell_type": "code",
   "execution_count": 14,
   "id": "208c7db9",
   "metadata": {},
   "outputs": [],
   "source": [
    "#grabCut分割\n",
    "from matplotlib import pyplot as plt\n",
    "img = cv2.imread('tu_.png')\n",
    "gray = cv2.cvtColor(img,cv2.COLOR_BGR2GRAY)\n",
    "#gray = cv2.equalizeHist(gray)#均衡\n",
    "#gray = cv2.GaussianBlur(gray, (5, 5), 0)#高斯滤波\n",
    "\n",
    "# 创建于读入图像，相同大小的掩模\n",
    "mask = np.zeros(img.shape[:2],np.uint8)\n",
    " \n",
    "# 创建以0填充的前景和背景模型\n",
    "bgdModel = np.zeros((1, 65), np.float64)\n",
    "fgdModel = np.zeros((1, 65), np.float64)\n",
    " \n",
    "rect = (21,1,660,428)\n",
    "cv2.grabCut(img, mask, rect, bgdModel,fgdModel,6,cv2.GC_INIT_WITH_RECT)\n",
    " \n",
    "# 此时的掩模已经变成了0-3之间的数字，\n",
    "mask2 = np.where((mask == 2) | (mask == 0),0,1).astype('uint8')\n",
    " \n",
    "img1 = img * mask2[:,:,np.newaxis]\n",
    " \n",
    "#plt.subplot(121),plt.imshow(img1)\n",
    "#plt.title(\"grabcut\"),plt.xticks([]),plt.yticks([])\n",
    " \n",
    "#plt.subplot(122),plt.imshow(gray)\n",
    "#plt.title(\"original\"),plt.xticks([]),plt.yticks([])\n",
    "gray = cv2.cvtColor(img1,cv2.COLOR_BGR2GRAY);\n",
    "gray = cv2.GaussianBlur(gray, (5, 5), 0)#高斯滤波\n",
    "\n",
    "\n",
    "plt.show()\n",
    "cv_show('German',gray)"
   ]
  },
  {
   "cell_type": "code",
   "execution_count": 84,
   "id": "b823455a",
   "metadata": {},
   "outputs": [],
   "source": [
    "cv_show('s',img)"
   ]
  },
  {
   "cell_type": "code",
   "execution_count": 15,
   "id": "6a09d3bf",
   "metadata": {},
   "outputs": [],
   "source": [
    "import cv2 as cv\n",
    "import numpy as np\n",
    "IMG=img1;\n",
    "\n",
    "k = np.ones((4, 4), np.uint8)\n",
    "black = cv.morphologyEx(IMG, cv.MORPH_BLACKHAT, k)\n",
    "top = cv.morphologyEx(IMG, cv.MORPH_TOPHAT, k)\n",
    "\n",
    "cv.imshow(\"image1\", IMG)\n",
    "cv.imshow(\"image2\", IMG)\n",
    "cv.imshow(\"black\", black)\n",
    "cv.imshow(\"top\", top)\n",
    "cv.imshow(\"IMG-top\", IMG-top)\n",
    "cv.waitKey()\n",
    "cv.destroyAllWindows()\n"
   ]
  },
  {
   "cell_type": "markdown",
   "id": "bfea59b4",
   "metadata": {},
   "source": [
    "# 最大联通域"
   ]
  },
  {
   "cell_type": "code",
   "execution_count": 16,
   "id": "1f73eed9",
   "metadata": {},
   "outputs": [
    {
     "data": {
      "image/png": "[encoded data removed]",
      "text/plain": [
       "<Figure size 432x288 with 2 Axes>"
      ]
     },
     "metadata": {},
     "output_type": "display_data"
    }
   ],
   "source": [
    "gray = cv2.cvtColor(img1,cv2.COLOR_BGR2GRAY)\n",
    "gray_o=gray\n",
    "contours,hierarchy = cv2.findContours(gray,cv2.RETR_TREE, cv2.CHAIN_APPROX_NONE)\n",
    " \n",
    "#找到最大区域并填充\n",
    " \n",
    "area = []\n",
    " \n",
    "for j in range(len(contours)):\n",
    " \n",
    "    area.append(cv2.contourArea(contours[j]))\n",
    " \n",
    "max_idx = np.argmax(area)\n",
    " \n",
    "max_area = cv2.contourArea(contours[max_idx])\n",
    " \n",
    "for k in range(len(contours)):\n",
    " \n",
    "    if k != max_idx:\n",
    "        cv2.fillPoly(gray, [contours[k]], 0)\n",
    "plt.subplot(121),plt.imshow(gray)\n",
    "plt.title(\"grabcut\"),plt.xticks([]),plt.yticks([])\n",
    " \n",
    "plt.subplot(122),plt.imshow(gray_o)\n",
    "plt.title(\"original\"),plt.xticks([]),plt.yticks([])\n",
    "\n",
    "\n",
    "\n",
    "plt.show()\n",
    "cv_show(\"IMG-top1\",gray)\n",
    "cv_show(\"IMG-top2\",gray_o)"
   ]
  },
  {
   "cell_type": "code",
   "execution_count": 17,
   "id": "eb32b475",
   "metadata": {},
   "outputs": [],
   "source": [
    "import cv2 as cv\n",
    "IMG=gray;\n",
    "\n",
    "#k = cv2.getStructuringElement(cv2.MORPH_RECT, (5, 5))\n",
    "k = np.ones((4, 4), np.uint8)\n",
    "open = cv.morphologyEx(IMG, cv.MORPH_OPEN, k)\n",
    "close = cv.morphologyEx(IMG, cv.MORPH_CLOSE, k)\n",
    "\n",
    "cv.imshow(\"image\", IMG)\n",
    "cv.imshow(\"image\", IMG)\n",
    "cv.imshow(\"opening\", open)\n",
    "cv.imshow(\"closeing\", close)\n",
    "\n",
    "cv.waitKey()\n",
    "cv.destroyAllWindows()"
   ]
  },
  {
   "cell_type": "code",
   "execution_count": 19,
   "id": "09106b1f",
   "metadata": {},
   "outputs": [],
   "source": [
    "thresh = cv2.threshold(close, 0, 255, cv2.THRESH_BINARY | cv2.THRESH_OTSU)[1]\n",
    "cv_show('thresh', thresh)"
   ]
  },
  {
   "cell_type": "code",
   "execution_count": 20,
   "id": "15e635b9",
   "metadata": {},
   "outputs": [],
   "source": [
    "k = np.ones((4, 4), np.uint8)\n",
    "thresh = cv2.threshold(close, 0, 255, cv2.THRESH_BINARY | cv2.THRESH_OTSU)[1]\n",
    "thresh = cv2.morphologyEx(thresh, cv2.MORPH_CLOSE, k)\n",
    "binary=thresh\n",
    "dst = cv2.Laplacian(binary, cv2.CV_16S, ksize = 3)\n",
    "Laplacian = cv2.convertScaleAbs(dst)\n",
    "ret, binary = cv2.threshold(Laplacian, 127, 255, cv2.THRESH_BINARY)\n",
    "cv_show('close_2', thresh)"
   ]
  },
  {
   "cell_type": "markdown",
   "id": "45e913e5",
   "metadata": {},
   "source": [
    "# 求边缘"
   ]
  },
  {
   "cell_type": "code",
   "execution_count": 21,
   "id": "8cf38d14",
   "metadata": {},
   "outputs": [],
   "source": [
    "binary=thresh\n",
    "dst = cv2.Laplacian(binary, cv2.CV_16S, ksize = 3)\n",
    "Laplacian = cv2.convertScaleAbs(dst)\n",
    "ret, binary = cv2.threshold(Laplacian, 127, 255, cv2.THRESH_BINARY)\n",
    "cv_show('Marr',binary)#Marr求边缘"
   ]
  },
  {
   "cell_type": "code",
   "execution_count": 22,
   "id": "cc7f7af5",
   "metadata": {},
   "outputs": [],
   "source": [
    "threshCnts=[]\n",
    "hierarchy=[]\n",
    "threshCnts, hierarchy = cv2.findContours(thresh.copy(), cv2.RETR_LIST,\tcv2.CHAIN_APPROX_SIMPLE)\n",
    " \n",
    "cnts = threshCnts\n",
    "cur_img = img.copy()\n",
    "cv2.drawContours(cur_img, cnts, -1, (0, 0, 255), 3)\n",
    "cv_show('img', cur_img)\n",
    " \n",
    " \n",
    "locs = []\n"
   ]
  },
  {
   "cell_type": "code",
   "execution_count": 95,
   "id": "457dbb95",
   "metadata": {},
   "outputs": [
    {
     "data": {
      "text/plain": [
       "(array([[[ 71, 384]],\n",
       " \n",
       "        [[ 72, 383]],\n",
       " \n",
       "        [[ 75, 383]],\n",
       " \n",
       "        [[ 76, 384]],\n",
       " \n",
       "        [[ 76, 387]],\n",
       " \n",
       "        [[ 78, 387]],\n",
       " \n",
       "        [[ 80, 385]],\n",
       " \n",
       "        [[ 83, 385]],\n",
       " \n",
       "        [[ 84, 386]],\n",
       " \n",
       "        [[ 84, 389]],\n",
       " \n",
       "        [[ 83, 390]],\n",
       " \n",
       "        [[ 83, 403]],\n",
       " \n",
       "        [[ 82, 404]],\n",
       " \n",
       "        [[ 78, 404]],\n",
       " \n",
       "        [[ 77, 403]],\n",
       " \n",
       "        [[ 77, 397]],\n",
       " \n",
       "        [[ 76, 396]],\n",
       " \n",
       "        [[ 76, 394]],\n",
       " \n",
       "        [[ 73, 391]],\n",
       " \n",
       "        [[ 73, 388]],\n",
       " \n",
       "        [[ 72, 388]],\n",
       " \n",
       "        [[ 71, 387]]], dtype=int32),\n",
       " array([[[ 76, 355]],\n",
       " \n",
       "        [[ 79, 355]],\n",
       " \n",
       "        [[ 80, 356]],\n",
       " \n",
       "        [[ 81, 356]],\n",
       " \n",
       "        [[ 86, 361]],\n",
       " \n",
       "        [[ 86, 362]],\n",
       " \n",
       "        [[ 87, 363]],\n",
       " \n",
       "        [[ 87, 368]],\n",
       " \n",
       "        [[ 85, 370]],\n",
       " \n",
       "        [[ 83, 370]],\n",
       " \n",
       "        [[ 83, 374]],\n",
       " \n",
       "        [[ 82, 375]],\n",
       " \n",
       "        [[ 78, 375]],\n",
       " \n",
       "        [[ 74, 371]],\n",
       " \n",
       "        [[ 72, 371]],\n",
       " \n",
       "        [[ 69, 368]],\n",
       " \n",
       "        [[ 69, 366]],\n",
       " \n",
       "        [[ 68, 365]],\n",
       " \n",
       "        [[ 68, 362]],\n",
       " \n",
       "        [[ 73, 357]],\n",
       " \n",
       "        [[ 74, 357]]], dtype=int32),\n",
       " array([[[ 82, 329]],\n",
       " \n",
       "        [[ 89, 329]],\n",
       " \n",
       "        [[ 93, 333]],\n",
       " \n",
       "        [[ 93, 336]],\n",
       " \n",
       "        [[ 92, 337]],\n",
       " \n",
       "        [[ 92, 342]],\n",
       " \n",
       "        [[ 91, 343]],\n",
       " \n",
       "        [[ 89, 343]],\n",
       " \n",
       "        [[ 88, 344]],\n",
       " \n",
       "        [[ 77, 344]],\n",
       " \n",
       "        [[ 76, 343]],\n",
       " \n",
       "        [[ 76, 342]],\n",
       " \n",
       "        [[ 75, 341]],\n",
       " \n",
       "        [[ 75, 336]]], dtype=int32),\n",
       " array([[[583, 326]],\n",
       " \n",
       "        [[588, 326]],\n",
       " \n",
       "        [[589, 327]],\n",
       " \n",
       "        [[590, 327]],\n",
       " \n",
       "        [[595, 332]],\n",
       " \n",
       "        [[595, 336]],\n",
       " \n",
       "        [[591, 340]],\n",
       " \n",
       "        [[590, 340]],\n",
       " \n",
       "        [[589, 341]],\n",
       " \n",
       "        [[584, 341]],\n",
       " \n",
       "        [[581, 338]],\n",
       " \n",
       "        [[581, 337]],\n",
       " \n",
       "        [[579, 335]],\n",
       " \n",
       "        [[579, 330]]], dtype=int32),\n",
       " array([[[635, 324]],\n",
       " \n",
       "        [[635, 325]],\n",
       " \n",
       "        [[636, 325]]], dtype=int32),\n",
       " array([[[634, 321]]], dtype=int32),\n",
       " array([[[ 42, 314]],\n",
       " \n",
       "        [[ 44, 314]]], dtype=int32),\n",
       " array([[[ 70, 301]],\n",
       " \n",
       "        [[ 76, 301]],\n",
       " \n",
       "        [[ 80, 305]],\n",
       " \n",
       "        [[ 80, 308]],\n",
       " \n",
       "        [[ 78, 310]],\n",
       " \n",
       "        [[ 78, 312]],\n",
       " \n",
       "        [[ 76, 314]],\n",
       " \n",
       "        [[ 73, 314]],\n",
       " \n",
       "        [[ 72, 315]],\n",
       " \n",
       "        [[ 67, 315]],\n",
       " \n",
       "        [[ 65, 313]],\n",
       " \n",
       "        [[ 65, 311]],\n",
       " \n",
       "        [[ 64, 310]],\n",
       " \n",
       "        [[ 64, 307]]], dtype=int32),\n",
       " array([[[571, 299]],\n",
       " \n",
       "        [[578, 299]],\n",
       " \n",
       "        [[583, 304]],\n",
       " \n",
       "        [[583, 308]],\n",
       " \n",
       "        [[582, 309]],\n",
       " \n",
       "        [[582, 310]],\n",
       " \n",
       "        [[580, 312]],\n",
       " \n",
       "        [[580, 313]],\n",
       " \n",
       "        [[579, 314]],\n",
       " \n",
       "        [[579, 323]],\n",
       " \n",
       "        [[578, 324]],\n",
       " \n",
       "        [[578, 335]],\n",
       " \n",
       "        [[577, 336]],\n",
       " \n",
       "        [[577, 338]],\n",
       " \n",
       "        [[570, 345]],\n",
       " \n",
       "        [[566, 345]],\n",
       " \n",
       "        [[565, 344]],\n",
       " \n",
       "        [[564, 344]],\n",
       " \n",
       "        [[563, 343]],\n",
       " \n",
       "        [[562, 343]],\n",
       " \n",
       "        [[560, 341]],\n",
       " \n",
       "        [[560, 340]],\n",
       " \n",
       "        [[559, 340]],\n",
       " \n",
       "        [[557, 338]],\n",
       " \n",
       "        [[557, 335]],\n",
       " \n",
       "        [[561, 331]],\n",
       " \n",
       "        [[562, 331]],\n",
       " \n",
       "        [[563, 330]],\n",
       " \n",
       "        [[568, 330]],\n",
       " \n",
       "        [[571, 333]],\n",
       " \n",
       "        [[571, 329]],\n",
       " \n",
       "        [[572, 328]],\n",
       " \n",
       "        [[572, 314]],\n",
       " \n",
       "        [[571, 313]],\n",
       " \n",
       "        [[571, 311]],\n",
       " \n",
       "        [[567, 307]],\n",
       " \n",
       "        [[567, 303]]], dtype=int32),\n",
       " array([[[565, 278]],\n",
       " \n",
       "        [[566, 277]],\n",
       " \n",
       "        [[569, 277]],\n",
       " \n",
       "        [[570, 278]],\n",
       " \n",
       "        [[570, 282]],\n",
       " \n",
       "        [[569, 283]],\n",
       " \n",
       "        [[568, 283]],\n",
       " \n",
       "        [[568, 284]],\n",
       " \n",
       "        [[567, 285]],\n",
       " \n",
       "        [[562, 285]],\n",
       " \n",
       "        [[561, 284]],\n",
       " \n",
       "        [[561, 281]],\n",
       " \n",
       "        [[562, 280]],\n",
       " \n",
       "        [[565, 280]]], dtype=int32),\n",
       " array([[[540, 277]],\n",
       " \n",
       "        [[541, 276]],\n",
       " \n",
       "        [[546, 276]],\n",
       " \n",
       "        [[551, 281]],\n",
       " \n",
       "        [[551, 284]],\n",
       " \n",
       "        [[550, 285]],\n",
       " \n",
       "        [[550, 286]],\n",
       " \n",
       "        [[547, 289]],\n",
       " \n",
       "        [[543, 289]],\n",
       " \n",
       "        [[542, 288]],\n",
       " \n",
       "        [[541, 288]],\n",
       " \n",
       "        [[540, 287]],\n",
       " \n",
       "        [[538, 287]],\n",
       " \n",
       "        [[536, 285]],\n",
       " \n",
       "        [[536, 280]],\n",
       " \n",
       "        [[539, 277]]], dtype=int32),\n",
       " array([[[139, 141]],\n",
       " \n",
       "        [[144, 141]],\n",
       " \n",
       "        [[147, 144]],\n",
       " \n",
       "        [[147, 147]],\n",
       " \n",
       "        [[145, 149]],\n",
       " \n",
       "        [[139, 149]],\n",
       " \n",
       "        [[137, 147]],\n",
       " \n",
       "        [[137, 143]]], dtype=int32),\n",
       " array([[[123, 141]],\n",
       " \n",
       "        [[129, 141]],\n",
       " \n",
       "        [[131, 143]],\n",
       " \n",
       "        [[131, 146]],\n",
       " \n",
       "        [[129, 148]],\n",
       " \n",
       "        [[126, 148]],\n",
       " \n",
       "        [[125, 149]],\n",
       " \n",
       "        [[122, 149]],\n",
       " \n",
       "        [[120, 147]],\n",
       " \n",
       "        [[120, 144]]], dtype=int32),\n",
       " array([[[143, 127]],\n",
       " \n",
       "        [[149, 127]],\n",
       " \n",
       "        [[151, 129]],\n",
       " \n",
       "        [[151, 132]],\n",
       " \n",
       "        [[149, 134]],\n",
       " \n",
       "        [[141, 134]],\n",
       " \n",
       "        [[140, 133]],\n",
       " \n",
       "        [[140, 130]]], dtype=int32),\n",
       " array([[[129, 128]],\n",
       " \n",
       "        [[130, 127]],\n",
       " \n",
       "        [[134, 127]],\n",
       " \n",
       "        [[135, 128]],\n",
       " \n",
       "        [[135, 132]],\n",
       " \n",
       "        [[132, 135]],\n",
       " \n",
       "        [[128, 135]],\n",
       " \n",
       "        [[126, 133]],\n",
       " \n",
       "        [[126, 129]],\n",
       " \n",
       "        [[127, 128]]], dtype=int32),\n",
       " array([[[147, 114]],\n",
       " \n",
       "        [[153, 114]],\n",
       " \n",
       "        [[154, 115]],\n",
       " \n",
       "        [[154, 118]],\n",
       " \n",
       "        [[151, 121]],\n",
       " \n",
       "        [[147, 121]],\n",
       " \n",
       "        [[145, 119]],\n",
       " \n",
       "        [[145, 116]]], dtype=int32),\n",
       " array([[[132, 115]],\n",
       " \n",
       "        [[133, 114]],\n",
       " \n",
       "        [[137, 114]],\n",
       " \n",
       "        [[139, 116]],\n",
       " \n",
       "        [[139, 119]],\n",
       " \n",
       "        [[138, 120]],\n",
       " \n",
       "        [[137, 120]],\n",
       " \n",
       "        [[136, 121]],\n",
       " \n",
       "        [[131, 121]],\n",
       " \n",
       "        [[130, 120]],\n",
       " \n",
       "        [[130, 116]],\n",
       " \n",
       "        [[131, 115]]], dtype=int32),\n",
       " array([[[151,   0]],\n",
       " \n",
       "        [[151,   2]],\n",
       " \n",
       "        [[149,   4]],\n",
       " \n",
       "        ...,\n",
       " \n",
       "        [[475,   3]],\n",
       " \n",
       "        [[474,   2]],\n",
       " \n",
       "        [[474,   0]]], dtype=int32))"
      ]
     },
     "execution_count": 95,
     "metadata": {},
     "output_type": "execute_result"
    }
   ],
   "source": [
    "cnts"
   ]
  },
  {
   "cell_type": "code",
   "execution_count": 39,
   "id": "ae7eda04",
   "metadata": {},
   "outputs": [
    {
     "name": "stdout",
     "output_type": "stream",
     "text": [
      "16\n",
      "[(72, 381, 13, 25), (69, 356, 20, 21), (76, 330, 19, 16), (580, 327, 17, 16), (553, 311, 7, 6), (551, 303, 8, 6), (65, 302, 17, 15), (558, 300, 27, 47), (562, 278, 10, 9), (537, 277, 16, 14), (137, 142, 12, 9), (121, 142, 12, 9), (141, 128, 12, 8), (127, 128, 11, 9), (145, 115, 11, 8), (131, 115, 10, 8)]\n"
     ]
    }
   ],
   "source": [
    "img = cv2.imread('tu_.png')\n",
    "cv_show('ma',img)\n",
    "num=0\n",
    "locs=[]\n",
    "for (i, c) in enumerate(cnts):\n",
    "    # 计算矩形\n",
    "    (x, y, w, h) = cv2.boundingRect(c)\n",
    "    ar = w / float(h)\n",
    "    # 选择合适的区域，根据实际任务来，这里的基本都是四个数字一组\n",
    "    # [(454, 213, 110, 29), (308, 211, 109, 31), (171, 211, 98, 31), (18, 211, 107, 31)]\n",
    "    #if 0.8< ar < 1.2:\n",
    "    if (5< w < 60) and (5 < h < 60):\n",
    "            # 符合的留下来\n",
    "        locs.append((x, y, w, h))\n",
    "        num=num+1\n",
    "print(num) \n",
    "print(locs)"
   ]
  },
  {
   "cell_type": "code",
   "execution_count": 283,
   "id": "5f50e7b3",
   "metadata": {},
   "outputs": [],
   "source": [
    "name=\"muban\"+str(i)+\".png\""
   ]
  },
  {
   "cell_type": "code",
   "execution_count": 6,
   "id": "db9fd8a2",
   "metadata": {},
   "outputs": [
    {
     "ename": "AttributeError",
     "evalue": "module 'cv2' has no attribute 'iwrite'",
     "output_type": "error",
     "traceback": [
      "\u001b[1;31m---------------------------------------------------------------------------\u001b[0m",
      "\u001b[1;31mAttributeError\u001b[0m                            Traceback (most recent call last)",
      "\u001b[1;32m<ipython-input-6-5d0947d2ce9a>\u001b[0m in \u001b[0;36m<module>\u001b[1;34m\u001b[0m\n\u001b[1;32m----> 1\u001b[1;33m \u001b[0mcv2\u001b[0m\u001b[1;33m.\u001b[0m\u001b[0miwrite\u001b[0m\u001b[1;33m\u001b[0m\u001b[1;33m\u001b[0m\u001b[0m\n\u001b[0m",
      "\u001b[1;31mAttributeError\u001b[0m: module 'cv2' has no attribute 'iwrite'"
     ]
    }
   ],
   "source": [
    "cv2.imwrite(name,)"
   ]
  },
  {
   "cell_type": "code",
   "execution_count": 287,
   "id": "4685898e",
   "metadata": {},
   "outputs": [
    {
     "ename": "error",
     "evalue": "OpenCV(4.6.0) :-1: error: (-5:Bad argument) in function 'imwrite'\n> Overload resolution failed:\n>  - imwrite() missing required argument 'img' (pos 2)\n>  - imwrite() missing required argument 'img' (pos 2)\n",
     "output_type": "error",
     "traceback": [
      "\u001b[1;31m---------------------------------------------------------------------------\u001b[0m",
      "\u001b[1;31merror\u001b[0m                                     Traceback (most recent call last)",
      "\u001b[1;32m<ipython-input-287-94af1f4d1778>\u001b[0m in \u001b[0;36m<module>\u001b[1;34m\u001b[0m\n\u001b[1;32m----> 1\u001b[1;33m \u001b[0mcv2\u001b[0m\u001b[1;33m.\u001b[0m\u001b[0mimwrite\u001b[0m\u001b[1;33m(\u001b[0m\u001b[0mname\u001b[0m\u001b[1;33m)\u001b[0m\u001b[1;33m\u001b[0m\u001b[1;33m\u001b[0m\u001b[0m\n\u001b[0m",
      "\u001b[1;31merror\u001b[0m: OpenCV(4.6.0) :-1: error: (-5:Bad argument) in function 'imwrite'\n> Overload resolution failed:\n>  - imwrite() missing required argument 'img' (pos 2)\n>  - imwrite() missing required argument 'img' (pos 2)\n"
     ]
    }
   ],
   "source": []
  },
  {
   "cell_type": "code",
   "execution_count": 106,
   "id": "bfdc738c",
   "metadata": {},
   "outputs": [
    {
     "ename": "error",
     "evalue": "OpenCV(4.6.0) D:\\a\\opencv-python\\opencv-python\\opencv\\modules\\highgui\\src\\window.cpp:967: error: (-215:Assertion failed) size.width>0 && size.height>0 in function 'cv::imshow'\n",
     "output_type": "error",
     "traceback": [
      "\u001b[1;31m---------------------------------------------------------------------------\u001b[0m",
      "\u001b[1;31merror\u001b[0m                                     Traceback (most recent call last)",
      "\u001b[1;32m<ipython-input-106-8820efcef0c6>\u001b[0m in \u001b[0;36m<module>\u001b[1;34m\u001b[0m\n\u001b[0;32m      1\u001b[0m \u001b[0mx\u001b[0m\u001b[1;33m=\u001b[0m\u001b[0mbinary\u001b[0m\u001b[1;33m[\u001b[0m\u001b[0mx_center\u001b[0m\u001b[1;33m:\u001b[0m\u001b[1;33m(\u001b[0m\u001b[0mx_center\u001b[0m\u001b[1;33m+\u001b[0m\u001b[0mh1\u001b[0m\u001b[1;33m)\u001b[0m\u001b[1;33m,\u001b[0m\u001b[0my_center\u001b[0m\u001b[1;33m:\u001b[0m\u001b[1;33m(\u001b[0m\u001b[0my_center\u001b[0m\u001b[1;33m+\u001b[0m\u001b[0mh2\u001b[0m\u001b[1;33m)\u001b[0m\u001b[1;33m]\u001b[0m\u001b[1;33m\u001b[0m\u001b[1;33m\u001b[0m\u001b[0m\n\u001b[1;32m----> 2\u001b[1;33m \u001b[0mcv_show\u001b[0m\u001b[1;33m(\u001b[0m\u001b[1;34m's'\u001b[0m\u001b[1;33m,\u001b[0m\u001b[0mx\u001b[0m\u001b[1;33m)\u001b[0m\u001b[1;33m\u001b[0m\u001b[1;33m\u001b[0m\u001b[0m\n\u001b[0m",
      "\u001b[1;32m<ipython-input-89-68d003b63619>\u001b[0m in \u001b[0;36mcv_show\u001b[1;34m(name, img)\u001b[0m\n\u001b[0;32m      2\u001b[0m \u001b[1;32mimport\u001b[0m \u001b[0mcv2\u001b[0m\u001b[1;33m\u001b[0m\u001b[1;33m\u001b[0m\u001b[0m\n\u001b[0;32m      3\u001b[0m \u001b[1;32mdef\u001b[0m \u001b[0mcv_show\u001b[0m\u001b[1;33m(\u001b[0m\u001b[0mname\u001b[0m\u001b[1;33m,\u001b[0m\u001b[0mimg\u001b[0m\u001b[1;33m)\u001b[0m\u001b[1;33m:\u001b[0m\u001b[1;33m\u001b[0m\u001b[1;33m\u001b[0m\u001b[0m\n\u001b[1;32m----> 4\u001b[1;33m     \u001b[0mcv2\u001b[0m\u001b[1;33m.\u001b[0m\u001b[0mimshow\u001b[0m\u001b[1;33m(\u001b[0m\u001b[0mname\u001b[0m\u001b[1;33m,\u001b[0m\u001b[0mimg\u001b[0m\u001b[1;33m)\u001b[0m   \u001b[1;31m#显示原图\u001b[0m\u001b[1;33m\u001b[0m\u001b[1;33m\u001b[0m\u001b[0m\n\u001b[0m\u001b[0;32m      5\u001b[0m     \u001b[1;32mif\u001b[0m \u001b[0mcv2\u001b[0m\u001b[1;33m.\u001b[0m\u001b[0mwaitKey\u001b[0m\u001b[1;33m(\u001b[0m\u001b[1;36m0\u001b[0m\u001b[1;33m)\u001b[0m \u001b[1;33m==\u001b[0m \u001b[1;36m27\u001b[0m\u001b[1;33m:\u001b[0m\u001b[1;33m\u001b[0m\u001b[1;33m\u001b[0m\u001b[0m\n\u001b[0;32m      6\u001b[0m         \u001b[0mcv2\u001b[0m\u001b[1;33m.\u001b[0m\u001b[0mdestroyAllWindows\u001b[0m\u001b[1;33m(\u001b[0m\u001b[1;33m)\u001b[0m\u001b[1;33m\u001b[0m\u001b[1;33m\u001b[0m\u001b[0m\n",
      "\u001b[1;31merror\u001b[0m: OpenCV(4.6.0) D:\\a\\opencv-python\\opencv-python\\opencv\\modules\\highgui\\src\\window.cpp:967: error: (-215:Assertion failed) size.width>0 && size.height>0 in function 'cv::imshow'\n"
     ]
    }
   ],
   "source": [
    "x=binary[x_center:(x_center+h1),y_center:(y_center+h2)]\n",
    "cv_show('s',x)"
   ]
  },
  {
   "cell_type": "code",
   "execution_count": 127,
   "id": "80de4cc7",
   "metadata": {},
   "outputs": [
    {
     "ename": "SyntaxError",
     "evalue": "invalid syntax (<ipython-input-127-2c873a8cd339>, line 1)",
     "output_type": "error",
     "traceback": [
      "\u001b[1;36m  File \u001b[1;32m\"<ipython-input-127-2c873a8cd339>\"\u001b[1;36m, line \u001b[1;32m1\u001b[0m\n\u001b[1;33m    gg=600:610\u001b[0m\n\u001b[1;37m          ^\u001b[0m\n\u001b[1;31mSyntaxError\u001b[0m\u001b[1;31m:\u001b[0m invalid syntax\n"
     ]
    }
   ],
   "source": [
    "gg=600:610"
   ]
  },
  {
   "cell_type": "code",
   "execution_count": 149,
   "id": "3c7e12e7",
   "metadata": {},
   "outputs": [
    {
     "name": "stdout",
     "output_type": "stream",
     "text": [
      "[48, 352]\n",
      "[39, 325]\n",
      "[47, 304]\n",
      "[553, 301]\n",
      "[38, 277]\n",
      "[521, 243]\n",
      "[542, 259]\n",
      "[511, 253]\n",
      "[117, 123]\n",
      "[99, 123]\n",
      "[119, 110]\n",
      "[107, 109]\n",
      "[126, 97]\n",
      "[111, 97]\n"
     ]
    }
   ],
   "source": [
    "for i in range(0,num):\n",
    "    h1 = int(locs[i][2])+5\n",
    "    h2=  int(locs[i][3])+5\n",
    "    x_center = locs[i][0]-5\n",
    "    y_center = locs[i][1]-5\n",
    "    print([x_center-h1, y_center-h2])\n",
    "    draw_0 = cv2.rectangle(img, (x_center, y_center), (x_center+h1, y_center+h2), (255, 0, 0), 2)\n",
    "    name=\"muban\"+str(i)+'.png'\n",
    "    cv2.imwrite(name,binary[y_center:(y_center+h2),x_center:(x_center+h1)])   #将图像保存成jpg文件\n",
    "    tep=binary[y_center:(y_center+h2),x_center:(x_center+h1)]\n",
    "cv_show('German',draw_0)"
   ]
  },
  {
   "cell_type": "code",
   "execution_count": 2,
   "id": "e036c68c",
   "metadata": {},
   "outputs": [],
   "source": [
    "def cv_show(name,img):\n",
    "    cv2.imshow(name,img)   #显示原图\n",
    "    if cv2.waitKey(0) == 27:\n",
    "        cv2.destroyAllWindows()\n",
    "    if cv2.waitKey(0):\n",
    "        cv2.destroyAllWindows()"
   ]
  },
  {
   "cell_type": "code",
   "execution_count": 152,
   "id": "fcd734c2",
   "metadata": {},
   "outputs": [
    {
     "name": "stdout",
     "output_type": "stream",
     "text": [
      "2595664.0\n"
     ]
    }
   ],
   "source": [
    "score=[]\n",
    "res = cv2.matchTemplate(binary, tep, cv2.TM_CCOEFF)\n",
    "(_, score, _, _) = cv2.minMaxLoc(res)\n",
    "print(score)"
   ]
  },
  {
   "cell_type": "code",
   "execution_count": 145,
   "id": "a3d05a64",
   "metadata": {},
   "outputs": [
    {
     "data": {
      "text/plain": [
       "322"
      ]
     },
     "execution_count": 145,
     "metadata": {},
     "output_type": "execute_result"
    }
   ],
   "source": [
    "y_center"
   ]
  },
  {
   "cell_type": "code",
   "execution_count": 83,
   "id": "dbc04618",
   "metadata": {},
   "outputs": [
    {
     "ename": "error",
     "evalue": "OpenCV(4.6.0) D:\\a\\opencv-python\\opencv-python\\opencv\\modules\\highgui\\src\\window.cpp:967: error: (-215:Assertion failed) size.width>0 && size.height>0 in function 'cv::imshow'\n",
     "output_type": "error",
     "traceback": [
      "\u001b[1;31m---------------------------------------------------------------------------\u001b[0m",
      "\u001b[1;31merror\u001b[0m                                     Traceback (most recent call last)",
      "\u001b[1;32m<ipython-input-83-28bc4ccffff5>\u001b[0m in \u001b[0;36m<module>\u001b[1;34m\u001b[0m\n\u001b[0;32m      1\u001b[0m \u001b[0mX\u001b[0m\u001b[1;33m=\u001b[0m\u001b[0mbinary\u001b[0m\u001b[1;33m[\u001b[0m\u001b[0mx_center\u001b[0m\u001b[1;33m:\u001b[0m\u001b[0mx_center\u001b[0m\u001b[1;33m+\u001b[0m\u001b[0mh1\u001b[0m\u001b[1;33m,\u001b[0m\u001b[0my_center\u001b[0m\u001b[1;33m:\u001b[0m\u001b[0my_center\u001b[0m\u001b[1;33m+\u001b[0m\u001b[0mh2\u001b[0m\u001b[1;33m]\u001b[0m\u001b[1;33m\u001b[0m\u001b[1;33m\u001b[0m\u001b[0m\n\u001b[1;32m----> 2\u001b[1;33m \u001b[0mcv_show\u001b[0m\u001b[1;33m(\u001b[0m\u001b[0mname\u001b[0m\u001b[1;33m,\u001b[0m\u001b[0mbinary\u001b[0m\u001b[1;33m[\u001b[0m\u001b[0mx_center\u001b[0m\u001b[1;33m:\u001b[0m\u001b[0mx_center\u001b[0m\u001b[1;33m+\u001b[0m\u001b[0mh1\u001b[0m\u001b[1;33m,\u001b[0m\u001b[0my_center\u001b[0m\u001b[1;33m:\u001b[0m\u001b[0my_center\u001b[0m\u001b[1;33m+\u001b[0m\u001b[0mh2\u001b[0m\u001b[1;33m]\u001b[0m\u001b[1;33m)\u001b[0m\u001b[1;33m\u001b[0m\u001b[1;33m\u001b[0m\u001b[0m\n\u001b[0m\u001b[0;32m      3\u001b[0m \u001b[0mcv2\u001b[0m\u001b[1;33m.\u001b[0m\u001b[0mimwrite\u001b[0m\u001b[1;33m(\u001b[0m\u001b[0mname\u001b[0m\u001b[1;33m,\u001b[0m\u001b[0mX\u001b[0m\u001b[1;33m)\u001b[0m\u001b[1;33m\u001b[0m\u001b[1;33m\u001b[0m\u001b[0m\n",
      "\u001b[1;32m<ipython-input-13-384aedba5d04>\u001b[0m in \u001b[0;36mcv_show\u001b[1;34m(name, img)\u001b[0m\n\u001b[0;32m      1\u001b[0m \u001b[1;32mdef\u001b[0m \u001b[0mcv_show\u001b[0m\u001b[1;33m(\u001b[0m\u001b[0mname\u001b[0m\u001b[1;33m,\u001b[0m\u001b[0mimg\u001b[0m\u001b[1;33m)\u001b[0m\u001b[1;33m:\u001b[0m\u001b[1;33m\u001b[0m\u001b[1;33m\u001b[0m\u001b[0m\n\u001b[1;32m----> 2\u001b[1;33m     \u001b[0mcv2\u001b[0m\u001b[1;33m.\u001b[0m\u001b[0mimshow\u001b[0m\u001b[1;33m(\u001b[0m\u001b[0mname\u001b[0m\u001b[1;33m,\u001b[0m\u001b[0mimg\u001b[0m\u001b[1;33m)\u001b[0m   \u001b[1;31m#显示原图\u001b[0m\u001b[1;33m\u001b[0m\u001b[1;33m\u001b[0m\u001b[0m\n\u001b[0m\u001b[0;32m      3\u001b[0m     \u001b[1;32mif\u001b[0m \u001b[0mcv2\u001b[0m\u001b[1;33m.\u001b[0m\u001b[0mwaitKey\u001b[0m\u001b[1;33m(\u001b[0m\u001b[1;36m0\u001b[0m\u001b[1;33m)\u001b[0m \u001b[1;33m==\u001b[0m \u001b[1;36m27\u001b[0m\u001b[1;33m:\u001b[0m\u001b[1;33m\u001b[0m\u001b[1;33m\u001b[0m\u001b[0m\n\u001b[0;32m      4\u001b[0m         \u001b[0mcv2\u001b[0m\u001b[1;33m.\u001b[0m\u001b[0mdestroyAllWindows\u001b[0m\u001b[1;33m(\u001b[0m\u001b[1;33m)\u001b[0m\u001b[1;33m\u001b[0m\u001b[1;33m\u001b[0m\u001b[0m\n\u001b[0;32m      5\u001b[0m     \u001b[1;32mif\u001b[0m \u001b[0mcv2\u001b[0m\u001b[1;33m.\u001b[0m\u001b[0mwaitKey\u001b[0m\u001b[1;33m(\u001b[0m\u001b[1;36m0\u001b[0m\u001b[1;33m)\u001b[0m\u001b[1;33m:\u001b[0m\u001b[1;33m\u001b[0m\u001b[1;33m\u001b[0m\u001b[0m\n",
      "\u001b[1;31merror\u001b[0m: OpenCV(4.6.0) D:\\a\\opencv-python\\opencv-python\\opencv\\modules\\highgui\\src\\window.cpp:967: error: (-215:Assertion failed) size.width>0 && size.height>0 in function 'cv::imshow'\n"
     ]
    }
   ],
   "source": [
    "\n",
    "X=binary[x_center:x_center+h1,y_center:y_center+h2]\n",
    "cv_show(name,binary[x_center:x_center+h1,y_center:y_center+h2])\n",
    "cv2.imwrite(name,X)"
   ]
  },
  {
   "cell_type": "code",
   "execution_count": 81,
   "id": "fe2e72b1",
   "metadata": {},
   "outputs": [
    {
     "ename": "error",
     "evalue": "OpenCV(4.6.0) D:\\a\\opencv-python\\opencv-python\\opencv\\modules\\imgcodecs\\src\\loadsave.cpp:801: error: (-215:Assertion failed) !_img.empty() in function 'cv::imwrite'\n",
     "output_type": "error",
     "traceback": [
      "\u001b[1;31m---------------------------------------------------------------------------\u001b[0m",
      "\u001b[1;31merror\u001b[0m                                     Traceback (most recent call last)",
      "\u001b[1;32m<ipython-input-81-90b85d2a3bc7>\u001b[0m in \u001b[0;36m<module>\u001b[1;34m\u001b[0m\n\u001b[1;32m----> 1\u001b[1;33m \u001b[0mcv2\u001b[0m\u001b[1;33m.\u001b[0m\u001b[0mimwrite\u001b[0m\u001b[1;33m(\u001b[0m\u001b[1;34m'name'\u001b[0m\u001b[1;33m,\u001b[0m\u001b[0mbinary\u001b[0m\u001b[1;33m[\u001b[0m\u001b[0mx_center\u001b[0m\u001b[1;33m:\u001b[0m\u001b[0mx_center\u001b[0m\u001b[1;33m+\u001b[0m\u001b[0mh1\u001b[0m\u001b[1;33m,\u001b[0m\u001b[0my_center\u001b[0m\u001b[1;33m:\u001b[0m\u001b[0my_center\u001b[0m\u001b[1;33m+\u001b[0m\u001b[0mh2\u001b[0m\u001b[1;33m]\u001b[0m\u001b[1;33m)\u001b[0m\u001b[1;33m\u001b[0m\u001b[1;33m\u001b[0m\u001b[0m\n\u001b[0m",
      "\u001b[1;31merror\u001b[0m: OpenCV(4.6.0) D:\\a\\opencv-python\\opencv-python\\opencv\\modules\\imgcodecs\\src\\loadsave.cpp:801: error: (-215:Assertion failed) !_img.empty() in function 'cv::imwrite'\n"
     ]
    }
   ],
   "source": [
    "cv2.imwrite('name',binary[x_center:x_center+h1,y_center:y_center+h2]) "
   ]
  },
  {
   "cell_type": "code",
   "execution_count": 54,
   "id": "aa778f79",
   "metadata": {},
   "outputs": [
    {
     "data": {
      "text/plain": [
       "array([575, 576, 577, 578, 579, 580, 581, 582, 583, 584, 585, 586, 587,\n",
       "       588, 589, 590, 591, 592, 593, 594, 595, 596])"
      ]
     },
     "execution_count": 54,
     "metadata": {},
     "output_type": "execute_result"
    }
   ],
   "source": [
    "np.arange(x_center,x_center+h1)"
   ]
  },
  {
   "cell_type": "code",
   "execution_count": 23,
   "id": "725ecc92",
   "metadata": {},
   "outputs": [
    {
     "ename": "SyntaxError",
     "evalue": "invalid character in identifier (<ipython-input-23-9837ecce0d0d>, line 2)",
     "output_type": "error",
     "traceback": [
      "\u001b[1;36m  File \u001b[1;32m\"<ipython-input-23-9837ecce0d0d>\"\u001b[1;36m, line \u001b[1;32m2\u001b[0m\n\u001b[1;33m    cv2.imwrite('name'，draw_0)\u001b[0m\n\u001b[1;37m                            ^\u001b[0m\n\u001b[1;31mSyntaxError\u001b[0m\u001b[1;31m:\u001b[0m invalid character in identifier\n"
     ]
    }
   ],
   "source": [
    "a=binary[10:15,20:25]\n",
    "cv2.imwrite('name'，draw_0)\n",
    "cv2.destroyAllWindows()"
   ]
  },
  {
   "cell_type": "code",
   "execution_count": 144,
   "id": "3a188ce9",
   "metadata": {},
   "outputs": [
    {
     "name": "stdout",
     "output_type": "stream",
     "text": [
      "429\n",
      "[]\n"
     ]
    }
   ],
   "source": [
    "a=binary[x_center:(x_center+h1),x_center:(x_center+h1)]\n",
    "\n",
    "print(len(binary))\n",
    "print(a)"
   ]
  },
  {
   "cell_type": "code",
   "execution_count": 143,
   "id": "f20c02ef",
   "metadata": {},
   "outputs": [
    {
     "data": {
      "text/plain": [
       "array([[0, 0, 0, ..., 0, 0, 0],\n",
       "       [0, 0, 0, ..., 0, 0, 0],\n",
       "       [0, 0, 0, ..., 0, 0, 0],\n",
       "       ...,\n",
       "       [0, 0, 0, ..., 0, 0, 0],\n",
       "       [0, 0, 0, ..., 0, 0, 0],\n",
       "       [0, 0, 0, ..., 0, 0, 0]], dtype=uint8)"
      ]
     },
     "execution_count": 143,
     "metadata": {},
     "output_type": "execute_result"
    }
   ],
   "source": [
    "binary"
   ]
  },
  {
   "cell_type": "code",
   "execution_count": 67,
   "id": "f9b0acd1",
   "metadata": {},
   "outputs": [
    {
     "data": {
      "image/png": "[encoded data removed]",
      "text/plain": [
       "<Figure size 432x288 with 2 Axes>"
      ]
     },
     "metadata": {
      "needs_background": "light"
     },
     "output_type": "display_data"
    }
   ],
   "source": [
    "gaussianBlur=gray    \n",
    "Canny = cv2.Canny(gaussianBlur, 50, 150)\n",
    "ret, binary = cv2.threshold(Canny, 127, 255, cv2.THRESH_BINARY)\n",
    "plt.subplot(121),plt.imshow(binary, cmap=plt.cm.gray ),plt.title('bd'), plt.axis('off')\n",
    "plt.subplot(122), plt.imshow(Canny, cmap=plt.cm.gray), plt.title('Canny'), plt.axis('off')\n",
    "cv_show('candy',Canny)\n"
   ]
  },
  {
   "cell_type": "code",
   "execution_count": null,
   "id": "4032cdd4",
   "metadata": {},
   "outputs": [],
   "source": []
  },
  {
   "cell_type": "markdown",
   "id": "25f7dc20",
   "metadata": {},
   "source": [
    "# 求边缘"
   ]
  },
  {
   "cell_type": "code",
   "execution_count": 43,
   "id": "149964e1",
   "metadata": {},
   "outputs": [],
   "source": [
    "binary=gray\n",
    "dst = cv2.Laplacian(binary, cv2.CV_16S, ksize = 3)\n",
    "Laplacian = cv2.convertScaleAbs(dst)\n",
    "ret, binary = cv2.threshold(Laplacian, 127, 255, cv2.THRESH_BINARY)\n",
    "cv_show('Marr',binary)#Marr求边缘"
   ]
  },
  {
   "cell_type": "code",
   "execution_count": 44,
   "id": "346826e5",
   "metadata": {},
   "outputs": [],
   "source": [
    "IMG=binary;\n",
    "k = np.ones((2, 2), np.uint8)\n",
    "IMG_erode = cv2.erode(IMG, k, iterations=1)\n",
    "cv_show(\"image\", IMG)\n",
    "cv_show(\"erode\", IMG_erode)#腐蚀"
   ]
  },
  {
   "cell_type": "markdown",
   "id": "cab4ac9e",
   "metadata": {},
   "source": [
    "# 求轮廓"
   ]
  },
  {
   "cell_type": "code",
   "execution_count": 37,
   "id": "232af4a1",
   "metadata": {},
   "outputs": [
    {
     "data": {
      "text/plain": [
       "(-0.5, 701.5, 428.5, -0.5)"
      ]
     },
     "execution_count": 37,
     "metadata": {},
     "output_type": "execute_result"
    },
    {
     "data": {
      "image/png": "[encoded data removed]",
      "text/plain": [
       "<Figure size 432x288 with 1 Axes>"
      ]
     },
     "metadata": {
      "needs_background": "light"
     },
     "output_type": "display_data"
    }
   ],
   "source": [
    "bin_img=IMG_erode\n",
    "contours, hierarchy = cv2.findContours(bin_img, cv2.RETR_EXTERNAL, cv2.CHAIN_APPROX_SIMPLE)\n",
    "\n",
    "cv2.drawContours(img,contours,-1,(0,255,0),5)\n",
    "plt.imshow(img[...,::-1])\n",
    "plt.axis('off')\n"
   ]
  },
  {
   "cell_type": "code",
   "execution_count": 177,
   "id": "6f513238",
   "metadata": {},
   "outputs": [],
   "source": [
    "import cv2 as cv\n",
    "import numpy as np\n",
    "IMG=binary;\n",
    "\n",
    "k = np.ones((4, 4), np.uint8)\n",
    "black = cv.morphologyEx(IMG, cv.MORPH_BLACKHAT, k)\n",
    "top = cv.morphologyEx(IMG, cv.MORPH_TOPHAT, k)\n",
    "\n",
    "cv.imshow(\"image1\", IMG)\n",
    "cv.imshow(\"image2\", IMG)\n",
    "cv.imshow(\"black\", black)\n",
    "cv.imshow(\"top\", top)\n",
    "cv.imshow(\"IMG-top\", IMG-top)\n",
    "cv.waitKey()\n",
    "cv.destroyAllWindows()"
   ]
  },
  {
   "cell_type": "markdown",
   "id": "f34dc553",
   "metadata": {},
   "source": [
    "# 高斯滤波"
   ]
  },
  {
   "cell_type": "code",
   "execution_count": 100,
   "id": "22fbbcdc",
   "metadata": {},
   "outputs": [],
   "source": [
    " gray2 = cv2.GaussianBlur(gray, (5, 5), 0)\n",
    "cv_show(\"a\",gray2)"
   ]
  },
  {
   "cell_type": "markdown",
   "id": "b3020f80",
   "metadata": {},
   "source": [
    "# 直方图均衡"
   ]
  },
  {
   "cell_type": "code",
   "execution_count": 261,
   "id": "399337f7",
   "metadata": {},
   "outputs": [
    {
     "data": {
      "image/png": "[encoded data removed]",
      "text/plain": [
       "<Figure size 432x288 with 1 Axes>"
      ]
     },
     "metadata": {
      "needs_background": "light"
     },
     "output_type": "display_data"
    },
    {
     "data": {
      "image/png": "[encoded data removed]",
      "text/plain": [
       "<Figure size 432x288 with 1 Axes>"
      ]
     },
     "metadata": {
      "needs_background": "light"
     },
     "output_type": "display_data"
    },
    {
     "data": {
      "text/plain": [
       "-1"
      ]
     },
     "execution_count": 261,
     "metadata": {},
     "output_type": "execute_result"
    }
   ],
   "source": [
    "import cv2\n",
    "import numpy as np\n",
    "from matplotlib import pyplot as plt\n",
    "\n",
    "'''\n",
    "calcHist-计算图像直方图\n",
    "函数原型：calcHist(images,channels,mask,histSize,ranges,hist=None,accumulate=None)\n",
    "images：图像矩阵，例如：[image]\n",
    "channels：通道数，例如：0\n",
    "mask：掩膜，一般为：None\n",
    "histSize：直方图大小，一般等于灰度级数\n",
    "ranges：横轴范围\n",
    "'''\n",
    "\n",
    "# 获取灰度图像\n",
    "img = gray\n",
    "\n",
    "# 灰度图像的直方图\n",
    "hist = cv2.calcHist([img],[0],None,[256],[0,256])\n",
    "plt.figure()#新建一个图像\n",
    "plt.title(\"Grayscale Histogram\")\n",
    "plt.xlabel(\"Bins\")#X轴标签\n",
    "plt.ylabel(\"# of Pixels\")#Y轴标签\n",
    "plt.plot(hist)\n",
    "plt.xlim([0,256])#设置x坐标轴范围\n",
    "plt.show()\n",
    "\n",
    "\n",
    "'''\n",
    "equalizeHist—直方图均衡化\n",
    "函数原型： equalizeHist(src, dst=None)\n",
    "src：图像矩阵(单通道图像)\n",
    "dst：默认即可\n",
    "'''\n",
    "# 灰度图像直方图均衡化\n",
    "dst = cv2.equalizeHist(img)\n",
    "\n",
    "# 直方图\n",
    "hist = cv2.calcHist([dst],[0],None,[256],[0,256])\n",
    "\n",
    "plt.figure()\n",
    "plt.hist(dst.ravel(), 256)\n",
    "plt.show()\n",
    "\n",
    "cv2.imshow(\"Histogram Equalization\",np.hstack([img, dst]))\n",
    "cv2.waitKey(0)\n"
   ]
  },
  {
   "cell_type": "code",
   "execution_count": null,
   "id": "ed696a89",
   "metadata": {},
   "outputs": [],
   "source": []
  },
  {
   "cell_type": "markdown",
   "id": "bc556ee6",
   "metadata": {},
   "source": [
    "# 最大联通域"
   ]
  },
  {
   "cell_type": "code",
   "execution_count": 121,
   "id": "2e1e7739",
   "metadata": {},
   "outputs": [],
   "source": [
    "def useCanny(gaussianBlur):\n",
    "    #using system function\n",
    "    Canny = cv2.Canny(gaussianBlur, 50, 150)\n",
    "    ret, binary = cv2.threshold(Canny, 127, 255, cv2.THRESH_BINARY)\n",
    "    plt.subplot(121),plt.imshow(binary, cmap=plt.cm.gray ),plt.title('bd'), plt.axis('off')\n",
    "    plt.subplot(122), plt.imshow(Canny, cmap=plt.cm.gray), plt.title('Canny'), plt.axis('off')\n",
    "    cv_show('candy',Canny)\n",
    "    "
   ]
  },
  {
   "cell_type": "code",
   "execution_count": 30,
   "id": "3309bd09",
   "metadata": {},
   "outputs": [
    {
     "name": "stdout",
     "output_type": "stream",
     "text": [
      "[21, 0]\n"
     ]
    }
   ],
   "source": [
    "#画矩形\n",
    "h1 = 330\n",
    "h2=214\n",
    "x_center = 351\n",
    "y_center = 214\n",
    "print([x_center-h1, y_center-h2])\n",
    "draw_0 = cv2.rectangle(img, (x_center-h1, y_center-h2), (x_center+h1, y_center+h2), (255, 0, 0), 2)\n",
    "cv_show('German',draw_0)"
   ]
  },
  {
   "cell_type": "code",
   "execution_count": 55,
   "id": "05c96c5f",
   "metadata": {},
   "outputs": [
    {
     "ename": "NameError",
     "evalue": "name 'cv_read' is not defined",
     "output_type": "error",
     "traceback": [
      "\u001b[1;31m---------------------------------------------------------------------------\u001b[0m",
      "\u001b[1;31mNameError\u001b[0m                                 Traceback (most recent call last)",
      "\u001b[1;32m<ipython-input-55-cc88288d267e>\u001b[0m in \u001b[0;36m<module>\u001b[1;34m\u001b[0m\n\u001b[1;32m----> 1\u001b[1;33m \u001b[0mimg\u001b[0m \u001b[1;33m=\u001b[0m \u001b[0mcv_read\u001b[0m\u001b[1;33m(\u001b[0m\u001b[1;34m'tu_.png'\u001b[0m\u001b[1;33m)\u001b[0m\u001b[1;33m\u001b[0m\u001b[1;33m\u001b[0m\u001b[0m\n\u001b[0m",
      "\u001b[1;31mNameError\u001b[0m: name 'cv_read' is not defined"
     ]
    }
   ],
   "source": []
  },
  {
   "cell_type": "code",
   "execution_count": 58,
   "id": "8aa28af4",
   "metadata": {},
   "outputs": [],
   "source": [
    "cv_show('German',img)"
   ]
  },
  {
   "cell_type": "markdown",
   "id": "d4535191",
   "metadata": {},
   "source": [
    "# 图像腐蚀 "
   ]
  },
  {
   "cell_type": "code",
   "execution_count": 183,
   "id": "fc08b38c",
   "metadata": {},
   "outputs": [],
   "source": [
    "IMG=binary;\n",
    "k = np.ones((2, 2), np.uint8)\n",
    "IMG_erode = cv2.erode(IMG, k, iterations=1)\n",
    "cv_show(\"image\", IMG)\n",
    "cv_show(\"erode\", IMG_erode)                                          "
   ]
  },
  {
   "cell_type": "markdown",
   "id": "e9e74305",
   "metadata": {},
   "source": [
    "# 图像膨胀"
   ]
  },
  {
   "cell_type": "code",
   "execution_count": 176,
   "id": "3aeb25ef",
   "metadata": {},
   "outputs": [],
   "source": [
    "IMG=IMG_erode;\n",
    "k = np.ones((3, 3), np.uint8)\n",
    "img = cv2.dilate(IMG, k, iterations=3)\n",
    "cv_show(\"image\", IMG)\n",
    "cv_show(\"erode\", IMG_erode)\n"
   ]
  },
  {
   "cell_type": "markdown",
   "id": "e2d1f839",
   "metadata": {},
   "source": [
    "# 开闭运算"
   ]
  },
  {
   "cell_type": "code",
   "execution_count": 35,
   "id": "fde0c8aa",
   "metadata": {},
   "outputs": [],
   "source": [
    "import cv2 as cv\n",
    "IMG=img1;\n",
    "\n",
    "k = np.ones((4, 4), np.uint8)\n",
    "open = cv.morphologyEx(IMG, cv.MORPH_OPEN, k)\n",
    "close = cv.morphologyEx(IMG, cv.MORPH_CLOSE, k)\n",
    "\n",
    "cv.imshow(\"image\", IMG)\n",
    "cv.imshow(\"image\", IMG)\n",
    "cv.imshow(\"opening\", open)\n",
    "cv.imshow(\"closeing\", close)\n",
    "\n",
    "cv.waitKey()\n",
    "cv.destroyAllWindows()\n"
   ]
  },
  {
   "cell_type": "markdown",
   "id": "dd498a19",
   "metadata": {},
   "source": [
    "# 黑帽礼帽"
   ]
  },
  {
   "cell_type": "markdown",
   "id": "503bf045",
   "metadata": {},
   "source": [
    "# 最大联通域"
   ]
  },
  {
   "cell_type": "code",
   "execution_count": 25,
   "id": "0a7dfad4",
   "metadata": {},
   "outputs": [
    {
     "data": {
      "image/png": "[encoded data removed]",
      "text/plain": [
       "<Figure size 432x288 with 2 Axes>"
      ]
     },
     "metadata": {},
     "output_type": "display_data"
    }
   ],
   "source": [
    "gray = cv2.cvtColor(img1,cv2.COLOR_BGR2GRAY)\n",
    "gray_o=gray\n",
    "contours,hierarchy = cv2.findContours(gray,cv2.RETR_TREE, cv2.CHAIN_APPROX_NONE)\n",
    " \n",
    "#找到最大区域并填充\n",
    " \n",
    "area = []\n",
    " \n",
    "for j in range(len(contours)):\n",
    " \n",
    "    area.append(cv2.contourArea(contours[j]))\n",
    " \n",
    "max_idx = np.argmax(area)\n",
    " \n",
    "max_area = cv2.contourArea(contours[max_idx])\n",
    " \n",
    "for k in range(len(contours)):\n",
    " \n",
    "    if k != max_idx:\n",
    "        cv2.fillPoly(gray, [contours[k]], 0)\n",
    "plt.subplot(121),plt.imshow(gray)\n",
    "plt.title(\"grabcut\"),plt.xticks([]),plt.yticks([])\n",
    " \n",
    "plt.subplot(122),plt.imshow(gray_o)\n",
    "plt.title(\"original\"),plt.xticks([]),plt.yticks([])\n",
    "\n",
    "\n",
    "\n",
    "plt.show()\n",
    "cv_show(\"IMG-top1\",gray)\n",
    "cv_show(\"IMG-top2\",gray_o)"
   ]
  },
  {
   "cell_type": "code",
   "execution_count": null,
   "id": "a3f7352a",
   "metadata": {},
   "outputs": [],
   "source": []
  }
 ],
 "metadata": {
  "kernelspec": {
   "display_name": "Python 3",
   "language": "python",
   "name": "python3"
  },
  "language_info": {
   "codemirror_mode": {
    "name": "ipython",
    "version": 3
   },
   "file_extension": ".py",
   "mimetype": "text/x-python",
   "name": "python",
   "nbconvert_exporter": "python",
   "pygments_lexer": "ipython3",
   "version": "3.8.8"
  }
 },
 "nbformat": 4,
 "nbformat_minor": 5
}
